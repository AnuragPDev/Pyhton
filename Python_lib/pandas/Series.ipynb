{
 "cells": [
  {
   "cell_type": "markdown",
   "id": "8df0c518-37ac-446d-90a2-fe8187aa56da",
   "metadata": {},
   "source": [
    "# Pandas"
   ]
  },
  {
   "cell_type": "markdown",
   "id": "a9cc11b8-a93e-468c-b2c7-f03b09aebd29",
   "metadata": {},
   "source": [
    "importing the pandas libraray "
   ]
  },
  {
   "cell_type": "code",
   "execution_count": 1,
   "id": "e28b21b8-a808-4f35-8ec3-47e5a71c1a6a",
   "metadata": {},
   "outputs": [],
   "source": [
    "import pandas as pd\n",
    "import os"
   ]
  },
  {
   "cell_type": "markdown",
   "id": "7e9d7e39-71a0-4eb0-bd02-a2c02687190f",
   "metadata": {},
   "source": [
    "### Datatypes\n",
    "pandas have two data types: Series and Dataframes\n",
    "##### series: It is just like a column of a table in one dimenasion form\n",
    "##### dataframes: it is used to analys the two dimensional data "
   ]
  },
  {
   "cell_type": "markdown",
   "id": "f1fe124b-36a8-4cf2-bf2e-054bd39a4f0f",
   "metadata": {},
   "source": [
    "### Series"
   ]
  },
  {
   "cell_type": "code",
   "execution_count": 2,
   "id": "103497ae-fd0a-4326-a7cf-7d4aa5b49cb4",
   "metadata": {},
   "outputs": [
    {
     "name": "stdout",
     "output_type": "stream",
     "text": [
      "0    1\n",
      "1    5\n",
      "2    7\n",
      "3    8\n",
      "4    9\n",
      "dtype: int64\n"
     ]
    }
   ],
   "source": [
    "# create a series data with list \n",
    "a=[1,5,7,8,9]\n",
    "myvar=pd.Series(a)\n",
    "print(myvar)"
   ]
  },
  {
   "cell_type": "markdown",
   "id": "1a211789-38af-455e-82fb-0da7a7f1b869",
   "metadata": {},
   "source": [
    "series return the two things , index and values and that index is the labels of the series which help to indetify the position of value \n",
    "By default the label returns as index from 0 till length of the series-1"
   ]
  },
  {
   "cell_type": "code",
   "execution_count": 3,
   "id": "4bd4695a-6f11-414f-a2a8-7dfbc52a547d",
   "metadata": {},
   "outputs": [
    {
     "name": "stdout",
     "output_type": "stream",
     "text": [
      "1 5 7 8\n"
     ]
    }
   ],
   "source": [
    "#### labels can be used to access values \n",
    "print(myvar[0],myvar[1],myvar[2],myvar[3])"
   ]
  },
  {
   "cell_type": "markdown",
   "id": "b95b95ae-8147-4219-bc4d-ba17d19e5dab",
   "metadata": {},
   "source": [
    "### Create lable\n",
    "we can create our own lable by using index argument "
   ]
  },
  {
   "cell_type": "code",
   "execution_count": 4,
   "id": "68f098dc-a20a-41e3-a2e6-d2acb1f55666",
   "metadata": {},
   "outputs": [],
   "source": [
    "ind=[\"a\",\"b\",\"c\",\"d\",\"e\"]"
   ]
  },
  {
   "cell_type": "code",
   "execution_count": 5,
   "id": "dbb171ab-e730-4de6-a03f-e98dbc85594a",
   "metadata": {},
   "outputs": [],
   "source": [
    "myvar2=pd.Series(a,index=ind)"
   ]
  },
  {
   "cell_type": "code",
   "execution_count": 6,
   "id": "13159e2c-d1b0-4077-b90f-46775ef814a9",
   "metadata": {},
   "outputs": [
    {
     "name": "stdout",
     "output_type": "stream",
     "text": [
      "a    1\n",
      "b    5\n",
      "c    7\n",
      "d    8\n",
      "e    9\n",
      "dtype: int64\n"
     ]
    }
   ],
   "source": [
    "print(myvar2)"
   ]
  },
  {
   "cell_type": "markdown",
   "id": "8ffb23c4-4e03-41b6-acc4-3dbce90cc67d",
   "metadata": {},
   "source": [
    "# creating Series"
   ]
  },
  {
   "cell_type": "code",
   "execution_count": 7,
   "id": "d9649738-6df8-4069-9f55-e27b52c6e76e",
   "metadata": {},
   "outputs": [],
   "source": [
    "l=[1,2,3,4,5]\n",
    "t=('a','b','c','d')\n",
    "dict={\"name\": \"Peter\", \"age\":34}\n"
   ]
  },
  {
   "cell_type": "code",
   "execution_count": 8,
   "id": "9edb51da-5ef0-42e8-b1cb-b605142eddd4",
   "metadata": {},
   "outputs": [],
   "source": [
    "# using list\n",
    "s1=pd.Series(l)\n",
    "# using tuple\n",
    "s2= pd.Series(t)\n",
    "#using dict\n",
    "s3=pd.Series(dict)"
   ]
  },
  {
   "cell_type": "code",
   "execution_count": 12,
   "id": "005f95b0-613a-4908-9f99-a4a3aef07c79",
   "metadata": {},
   "outputs": [
    {
     "data": {
      "text/plain": [
       "(0    1\n",
       " 1    2\n",
       " 2    3\n",
       " 3    4\n",
       " 4    5\n",
       " dtype: int64,\n",
       " 0    a\n",
       " 1    b\n",
       " 2    c\n",
       " 3    d\n",
       " dtype: object,\n",
       " name    Peter\n",
       " age        34\n",
       " dtype: object)"
      ]
     },
     "execution_count": 12,
     "metadata": {},
     "output_type": "execute_result"
    }
   ],
   "source": [
    "s1 , s2 , s3"
   ]
  },
  {
   "cell_type": "code",
   "execution_count": null,
   "id": "77b6f0b7-64b2-414b-b918-b6bfb9e08b37",
   "metadata": {},
   "outputs": [],
   "source": []
  },
  {
   "cell_type": "code",
   "execution_count": null,
   "id": "1b6544ca-eb88-43c3-aab9-8bc0578e8275",
   "metadata": {},
   "outputs": [],
   "source": []
  },
  {
   "cell_type": "code",
   "execution_count": null,
   "id": "084be101-b6dc-486c-9dfc-d304f93b290b",
   "metadata": {},
   "outputs": [],
   "source": []
  }
 ],
 "metadata": {
  "kernelspec": {
   "display_name": "Python 3 (ipykernel)",
   "language": "python",
   "name": "python3"
  },
  "language_info": {
   "codemirror_mode": {
    "name": "ipython",
    "version": 3
   },
   "file_extension": ".py",
   "mimetype": "text/x-python",
   "name": "python",
   "nbconvert_exporter": "python",
   "pygments_lexer": "ipython3",
   "version": "3.12.3"
  }
 },
 "nbformat": 4,
 "nbformat_minor": 5
}
