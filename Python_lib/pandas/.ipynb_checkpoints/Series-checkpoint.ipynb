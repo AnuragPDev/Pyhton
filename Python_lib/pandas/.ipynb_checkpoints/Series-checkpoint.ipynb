{
 "cells": [
  {
   "cell_type": "markdown",
   "id": "8df0c518-37ac-446d-90a2-fe8187aa56da",
   "metadata": {},
   "source": [
    "# Pandas"
   ]
  },
  {
   "cell_type": "markdown",
   "id": "a9cc11b8-a93e-468c-b2c7-f03b09aebd29",
   "metadata": {},
   "source": [
    "importing the pandas libraray "
   ]
  },
  {
   "cell_type": "code",
   "execution_count": 1,
   "id": "e28b21b8-a808-4f35-8ec3-47e5a71c1a6a",
   "metadata": {},
   "outputs": [],
   "source": [
    "import pandas as pd\n",
    "import os"
   ]
  },
  {
   "cell_type": "markdown",
   "id": "7e9d7e39-71a0-4eb0-bd02-a2c02687190f",
   "metadata": {},
   "source": [
    "### Datatypes\n",
    "pandas have two data types: Series and Dataframes\n",
    "##### series: It is just like a column of a table in one dimenasion form\n",
    "##### dataframes: it is used to analys the two dimensional data "
   ]
  },
  {
   "cell_type": "markdown",
   "id": "f1fe124b-36a8-4cf2-bf2e-054bd39a4f0f",
   "metadata": {},
   "source": [
    "### Series"
   ]
  },
  {
   "cell_type": "code",
   "execution_count": 2,
   "id": "103497ae-fd0a-4326-a7cf-7d4aa5b49cb4",
   "metadata": {},
   "outputs": [
    {
     "name": "stdout",
     "output_type": "stream",
     "text": [
      "0    1\n",
      "1    5\n",
      "2    7\n",
      "3    8\n",
      "4    9\n",
      "dtype: int64\n"
     ]
    }
   ],
   "source": [
    "# create a series data with list \n",
    "a=[1,5,7,8,9]\n",
    "myvar=pd.Series(a)\n",
    "print(myvar)"
   ]
  },
  {
   "cell_type": "markdown",
   "id": "1a211789-38af-455e-82fb-0da7a7f1b869",
   "metadata": {},
   "source": [
    "series return the two things , index and values and that index is the labels of the series which help to indetify the position of value \n",
    "By default the label returns as index from 0 till length of the series-1"
   ]
  },
  {
   "cell_type": "code",
   "execution_count": 3,
   "id": "4bd4695a-6f11-414f-a2a8-7dfbc52a547d",
   "metadata": {},
   "outputs": [
    {
     "name": "stdout",
     "output_type": "stream",
     "text": [
      "1 5 7 8\n"
     ]
    }
   ],
   "source": [
    "#### labels can be used to access values \n",
    "print(myvar[0],myvar[1],myvar[2],myvar[3])"
   ]
  },
  {
   "cell_type": "markdown",
   "id": "b95b95ae-8147-4219-bc4d-ba17d19e5dab",
   "metadata": {},
   "source": [
    "### Create lable\n",
    "we can create our own lable by using index argument "
   ]
  },
  {
   "cell_type": "code",
   "execution_count": 4,
   "id": "68f098dc-a20a-41e3-a2e6-d2acb1f55666",
   "metadata": {},
   "outputs": [],
   "source": [
    "ind=[\"a\",\"b\",\"c\",\"d\",\"e\"]"
   ]
  },
  {
   "cell_type": "code",
   "execution_count": 5,
   "id": "dbb171ab-e730-4de6-a03f-e98dbc85594a",
   "metadata": {},
   "outputs": [],
   "source": [
    "myvar2=pd.Series(a,index=ind)"
   ]
  },
  {
   "cell_type": "code",
   "execution_count": 6,
   "id": "13159e2c-d1b0-4077-b90f-46775ef814a9",
   "metadata": {},
   "outputs": [
    {
     "name": "stdout",
     "output_type": "stream",
     "text": [
      "a    1\n",
      "b    5\n",
      "c    7\n",
      "d    8\n",
      "e    9\n",
      "dtype: int64\n"
     ]
    }
   ],
   "source": [
    "print(myvar2)"
   ]
  },
  {
   "cell_type": "markdown",
   "id": "8ffb23c4-4e03-41b6-acc4-3dbce90cc67d",
   "metadata": {},
   "source": [
    "# creating Series"
   ]
  },
  {
   "cell_type": "code",
   "execution_count": 7,
   "id": "d9649738-6df8-4069-9f55-e27b52c6e76e",
   "metadata": {},
   "outputs": [],
   "source": [
    "l=[1,2,3,4,5]\n",
    "t=('a','b','c','d')\n",
    "dict={\"name\": \"Peter\", \"age\":34 ,\"sex\":\"male\"}\n"
   ]
  },
  {
   "cell_type": "code",
   "execution_count": 8,
   "id": "9edb51da-5ef0-42e8-b1cb-b605142eddd4",
   "metadata": {},
   "outputs": [],
   "source": [
    "# using list\n",
    "s1=pd.Series(l, name=\"series_1\")\n",
    "# using tuple\n",
    "s2= pd.Series(t)\n",
    "#using dict\n",
    "s3=pd.Series(dict)"
   ]
  },
  {
   "cell_type": "code",
   "execution_count": 9,
   "id": "005f95b0-613a-4908-9f99-a4a3aef07c79",
   "metadata": {},
   "outputs": [
    {
     "data": {
      "text/plain": [
       "(0    1\n",
       " 1    2\n",
       " 2    3\n",
       " 3    4\n",
       " 4    5\n",
       " Name: series_1, dtype: int64,\n",
       " 0    a\n",
       " 1    b\n",
       " 2    c\n",
       " 3    d\n",
       " dtype: object,\n",
       " name    Peter\n",
       " age        34\n",
       " sex      male\n",
       " dtype: object)"
      ]
     },
     "execution_count": 9,
     "metadata": {},
     "output_type": "execute_result"
    }
   ],
   "source": [
    "s1 , s2 , s3"
   ]
  },
  {
   "cell_type": "markdown",
   "id": "26d1cab2-d5f8-490b-8e96-e98399c1176f",
   "metadata": {},
   "source": [
    "### Series attributes"
   ]
  },
  {
   "cell_type": "markdown",
   "id": "ce0369a0-5858-4f57-bb37-d5accd80eed2",
   "metadata": {},
   "source": [
    "### .size"
   ]
  },
  {
   "cell_type": "code",
   "execution_count": 10,
   "id": "1b6544ca-eb88-43c3-aab9-8bc0578e8275",
   "metadata": {},
   "outputs": [
    {
     "data": {
      "text/plain": [
       "(0    a\n",
       " 1    b\n",
       " 2    c\n",
       " 3    d\n",
       " dtype: object,\n",
       " name    Peter\n",
       " age        34\n",
       " sex      male\n",
       " dtype: object)"
      ]
     },
     "execution_count": 10,
     "metadata": {},
     "output_type": "execute_result"
    }
   ],
   "source": [
    "s2, s3"
   ]
  },
  {
   "cell_type": "code",
   "execution_count": 11,
   "id": "084be101-b6dc-486c-9dfc-d304f93b290b",
   "metadata": {},
   "outputs": [
    {
     "data": {
      "text/plain": [
       "4"
      ]
     },
     "execution_count": 11,
     "metadata": {},
     "output_type": "execute_result"
    }
   ],
   "source": [
    "s2.size    # no of element in series "
   ]
  },
  {
   "cell_type": "code",
   "execution_count": 12,
   "id": "a998e30e-2feb-47f2-97a4-49683ad81527",
   "metadata": {},
   "outputs": [
    {
     "data": {
      "text/plain": [
       "3"
      ]
     },
     "execution_count": 12,
     "metadata": {},
     "output_type": "execute_result"
    }
   ],
   "source": [
    "s3.size"
   ]
  },
  {
   "cell_type": "markdown",
   "id": "eb42e8e3-4683-4514-9331-985cc17dc0ec",
   "metadata": {},
   "source": [
    "### .index "
   ]
  },
  {
   "cell_type": "code",
   "execution_count": 13,
   "id": "7a19f44c-4ae1-4ac4-95df-fae9a6c6f879",
   "metadata": {},
   "outputs": [
    {
     "data": {
      "text/plain": [
       "(RangeIndex(start=0, stop=5, step=1),\n",
       " Index(['name', 'age', 'sex'], dtype='object'),\n",
       " pandas.core.indexes.range.RangeIndex,\n",
       " pandas.core.indexes.base.Index)"
      ]
     },
     "execution_count": 13,
     "metadata": {},
     "output_type": "execute_result"
    }
   ],
   "source": [
    "s1.index , s3.index , type(s1.index), type(s3.index)"
   ]
  },
  {
   "cell_type": "markdown",
   "id": "ae090a66-d2ca-44cc-96ba-47daa60321b1",
   "metadata": {},
   "source": [
    "### .is_unique "
   ]
  },
  {
   "cell_type": "code",
   "execution_count": 14,
   "id": "2e918e38-b9c1-4069-bd32-6ba44369788c",
   "metadata": {},
   "outputs": [
    {
     "name": "stdout",
     "output_type": "stream",
     "text": [
      "False\n"
     ]
    }
   ],
   "source": [
    "num=[1,1,2,3,4,5]\n",
    "s4=pd.Series(num)\n",
    "print(s4.is_unique)"
   ]
  },
  {
   "cell_type": "markdown",
   "id": "c2f78c54-6be1-4e07-a5b3-624e28bf7ba2",
   "metadata": {},
   "source": [
    "### .values\n",
    "returns the value from the series as ndarray"
   ]
  },
  {
   "cell_type": "code",
   "execution_count": 15,
   "id": "13b14b7a-2d6a-4f99-87ef-5c34a6b0cbf8",
   "metadata": {},
   "outputs": [
    {
     "data": {
      "text/plain": [
       "(array([1, 2, 3, 4, 5]), numpy.ndarray)"
      ]
     },
     "execution_count": 15,
     "metadata": {},
     "output_type": "execute_result"
    }
   ],
   "source": [
    "s1.values , type(s1.values)"
   ]
  },
  {
   "cell_type": "markdown",
   "id": "5881ffdc-602f-4d3c-b463-f2b9dceb34f9",
   "metadata": {},
   "source": [
    "### .name\n",
    "series label or series name"
   ]
  },
  {
   "cell_type": "code",
   "execution_count": 16,
   "id": "79038a99-a86b-481d-80c9-a4352e78ebac",
   "metadata": {},
   "outputs": [
    {
     "data": {
      "text/plain": [
       "('series_1', None)"
      ]
     },
     "execution_count": 16,
     "metadata": {},
     "output_type": "execute_result"
    }
   ],
   "source": [
    "s1.name , s3.name"
   ]
  },
  {
   "cell_type": "markdown",
   "id": "5dde93a4-a9a9-4801-b694-3bff86ffbd53",
   "metadata": {},
   "source": [
    "### .dtype\n",
    "returns the datatype of the series element"
   ]
  },
  {
   "cell_type": "code",
   "execution_count": 17,
   "id": "3fa635be-626e-4fd7-b459-2190e12a0e4d",
   "metadata": {
    "scrolled": true
   },
   "outputs": [
    {
     "data": {
      "text/plain": [
       "(dtype('int64'), dtype('O'))"
      ]
     },
     "execution_count": 17,
     "metadata": {},
     "output_type": "execute_result"
    }
   ],
   "source": [
    "s1.dtype , s3.dtype"
   ]
  },
  {
   "cell_type": "markdown",
   "id": "1c46ced6-abba-40b2-b23b-0cd17ee9a03d",
   "metadata": {},
   "source": [
    "### .shape returns\n"
   ]
  },
  {
   "cell_type": "code",
   "execution_count": 18,
   "id": "3f082904-b0b8-4430-b860-8d117ff774ad",
   "metadata": {},
   "outputs": [
    {
     "data": {
      "text/plain": [
       "(5,)"
      ]
     },
     "execution_count": 18,
     "metadata": {},
     "output_type": "execute_result"
    }
   ],
   "source": [
    "s1.shape"
   ]
  },
  {
   "cell_type": "markdown",
   "id": "c47660db-5ccf-41d3-b3e7-396945cb64a8",
   "metadata": {},
   "source": [
    "#### Series using read_csv"
   ]
  },
  {
   "cell_type": "code",
   "execution_count": 19,
   "id": "78b34be4-68cf-46bd-b242-f592f37e459f",
   "metadata": {},
   "outputs": [],
   "source": [
    "#with one col\n",
    "\n",
    "subs=pd.read_csv(\"./Datasets/subs.csv\" , encoding=\"latin1\")\n",
    "\n",
    "subs=subs.squeeze(True)\n"
   ]
  },
  {
   "cell_type": "code",
   "execution_count": 20,
   "id": "90fd44a2-a281-43a0-a996-522875dee7a4",
   "metadata": {},
   "outputs": [],
   "source": [
    "# with two coloum\n",
    "kohli=pd.read_csv(\"./Datasets/kohli_ipl.csv\", encoding=\"latin1\",index_col= \"match_no\")\n",
    "kohli=kohli.squeeze(True)\n"
   ]
  },
  {
   "cell_type": "code",
   "execution_count": 21,
   "id": "bdda41eb-e37f-4c69-8e8c-a0cbb01cca38",
   "metadata": {},
   "outputs": [],
   "source": [
    "bollywood=pd.read_csv(\"./Datasets/bollywood.csv\", encoding=\"latin1\", index_col= \"movie\")\n",
    "bollywood=bollywood.squeeze(True)"
   ]
  },
  {
   "cell_type": "markdown",
   "id": "921dfa82-a053-4758-b04e-a4fd8b7c8b49",
   "metadata": {},
   "source": [
    "## Series methods "
   ]
  },
  {
   "cell_type": "markdown",
   "id": "c40d6c39-2617-4ad5-b6d0-33d5e1ae9d1c",
   "metadata": {},
   "source": [
    "### head(): give a glance of data of top 5 row by default , we can also give arugument as integer to specify the number of rows we want"
   ]
  },
  {
   "cell_type": "markdown",
   "id": "ad7dd04e-43b0-4e12-bf37-274ae9514747",
   "metadata": {},
   "source": [
    "### tail() give the glance of last 5 rows"
   ]
  },
  {
   "cell_type": "code",
   "execution_count": 22,
   "id": "9e77d2b2-883c-456d-a2b5-e3d9d0017472",
   "metadata": {},
   "outputs": [
    {
     "data": {
      "text/plain": [
       "(match_no\n",
       " 1     1\n",
       " 2    23\n",
       " 3    13\n",
       " 4    12\n",
       " 5     1\n",
       " Name: runs, dtype: int64,\n",
       " match_no\n",
       " 211     0\n",
       " 212    20\n",
       " 213    73\n",
       " 214    25\n",
       " 215     7\n",
       " Name: runs, dtype: int64)"
      ]
     },
     "execution_count": 22,
     "metadata": {},
     "output_type": "execute_result"
    }
   ],
   "source": [
    "kohli.head() , kohli.tail()"
   ]
  },
  {
   "cell_type": "code",
   "execution_count": 23,
   "id": "316bee82-38ea-4038-a7a7-3d6103ab37af",
   "metadata": {},
   "outputs": [
    {
     "data": {
      "text/plain": [
       "(movie\n",
       " Uri: The Surgical Strike                       Vicky Kaushal\n",
       " Battalion 609                                    Vicky Ahuja\n",
       " The Accidental Prime Minister (film)             Anupam Kher\n",
       " Why Cheat India                                Emraan Hashmi\n",
       " Evening Shadows                             Mona Ambegaonkar\n",
       " Soni (film)                             Geetika Vidya Ohlyan\n",
       " Fraud Saiyaan                                   Arshad Warsi\n",
       " Bombairiya                                      Radhika Apte\n",
       " Manikarnika: The Queen of Jhansi              Kangana Ranaut\n",
       " Thackeray (film)                         Nawazuddin Siddiqui\n",
       " Name: lead, dtype: object,\n",
       " movie\n",
       " Raaz (2002 film)                    Dino Morea\n",
       " Zameen (2003 film)                  Ajay Devgn\n",
       " Waisa Bhi Hota Hai Part II        Arshad Warsi\n",
       " Devdas (2002 Hindi film)        Shah Rukh Khan\n",
       " Kaante                        Amitabh Bachchan\n",
       " Hum Tumhare Hain Sanam          Shah Rukh Khan\n",
       " Aankhen (2002 film)           Amitabh Bachchan\n",
       " Saathiya (film)                   Vivek Oberoi\n",
       " Company (film)                      Ajay Devgn\n",
       " Awara Paagal Deewana              Akshay Kumar\n",
       " Name: lead, dtype: object)"
      ]
     },
     "execution_count": 23,
     "metadata": {},
     "output_type": "execute_result"
    }
   ],
   "source": [
    "bollywood.head(10), bollywood.tail(10)"
   ]
  },
  {
   "cell_type": "markdown",
   "id": "62b75713-e104-47ac-96fa-60e138e1fd16",
   "metadata": {},
   "source": [
    "### sample() : it gives the random single rows by default but we can also provide integer to get given number of rows"
   ]
  },
  {
   "cell_type": "code",
   "execution_count": 24,
   "id": "c27a6524-010d-423b-ac6f-f6744859a897",
   "metadata": {},
   "outputs": [
    {
     "data": {
      "text/plain": [
       "movie\n",
       "Bombay Velvet    Ranbir Kapoor\n",
       "Name: lead, dtype: object"
      ]
     },
     "execution_count": 24,
     "metadata": {},
     "output_type": "execute_result"
    }
   ],
   "source": [
    "bollywood.sample()"
   ]
  },
  {
   "cell_type": "markdown",
   "id": "6d51dd1f-8f2e-499b-aed2-10706237f6e2",
   "metadata": {},
   "source": [
    "### value_count()  : it returns the frequency count of the values in desc order"
   ]
  },
  {
   "cell_type": "code",
   "execution_count": 25,
   "id": "5d20439b-ef26-40b9-b42f-d97df3875a7a",
   "metadata": {},
   "outputs": [
    {
     "data": {
      "text/plain": [
       "lead\n",
       "Akshay Kumar         48\n",
       "Amitabh Bachchan     45\n",
       "Ajay Devgn           38\n",
       "Salman Khan          31\n",
       "Sanjay Dutt          26\n",
       "                     ..\n",
       "Seema Azmi            1\n",
       "Akanksha Puri         1\n",
       "Charanpreet Insan     1\n",
       "Jaideep Ahlawat       1\n",
       "Monali Thakur         1\n",
       "Name: count, Length: 566, dtype: int64"
      ]
     },
     "execution_count": 25,
     "metadata": {},
     "output_type": "execute_result"
    }
   ],
   "source": [
    "bollywood.value_counts()"
   ]
  },
  {
   "cell_type": "markdown",
   "id": "705db4f4-1d46-4ffe-9909-c071bb884fd5",
   "metadata": {},
   "source": [
    "### sort_values-> inplace tamprory change but we can also permanent change \n"
   ]
  },
  {
   "cell_type": "code",
   "execution_count": 26,
   "id": "6811b434-edbb-40ab-b3e5-5193b71446ba",
   "metadata": {},
   "outputs": [
    {
     "data": {
      "text/plain": [
       "match_no\n",
       "128    113\n",
       "Name: runs, dtype: int64"
      ]
     },
     "execution_count": 26,
     "metadata": {},
     "output_type": "execute_result"
    }
   ],
   "source": [
    "# highest run of kohli \n",
    "kohli.sort_values(ascending=False).head(1)"
   ]
  },
  {
   "cell_type": "code",
   "execution_count": 27,
   "id": "a19559f6-bb5e-455f-97e4-52f497b7edd0",
   "metadata": {},
   "outputs": [
    {
     "data": {
      "text/plain": [
       "match_no\n",
       "1       1\n",
       "2      23\n",
       "3      13\n",
       "4      12\n",
       "5       1\n",
       "       ..\n",
       "211     0\n",
       "212    20\n",
       "213    73\n",
       "214    25\n",
       "215     7\n",
       "Name: runs, Length: 215, dtype: int64"
      ]
     },
     "execution_count": 27,
     "metadata": {},
     "output_type": "execute_result"
    }
   ],
   "source": [
    "kohli"
   ]
  },
  {
   "cell_type": "markdown",
   "id": "d1e1b180-7931-4fbe-8943-dc3157d69cd3",
   "metadata": {},
   "source": [
    "### sort_index()"
   ]
  },
  {
   "cell_type": "code",
   "execution_count": 28,
   "id": "3ae8c30c-d243-4c97-9aef-7876c8994246",
   "metadata": {},
   "outputs": [],
   "source": [
    "bollywood.sort_index(inplace=True)"
   ]
  },
  {
   "cell_type": "code",
   "execution_count": 29,
   "id": "b0bd5d01-1767-48e6-8339-be6e8d7d29a0",
   "metadata": {},
   "outputs": [
    {
     "data": {
      "text/plain": [
       "movie\n",
       "1920 (film)                   Rajniesh Duggall\n",
       "1920: London                     Sharman Joshi\n",
       "1920: The Evil Returns             Vicky Ahuja\n",
       "1971 (2007 film)                Manoj Bajpayee\n",
       "2 States (2014 film)              Arjun Kapoor\n",
       "                                   ...        \n",
       "Zindagi 50-50                      Veena Malik\n",
       "Zindagi Na Milegi Dobara        Hrithik Roshan\n",
       "Zindagi Tere Naam           Mithun Chakraborty\n",
       "Zokkomon                       Darsheel Safary\n",
       "Zor Lagaa Ke...Haiya!            Meghan Jadhav\n",
       "Name: lead, Length: 1500, dtype: object"
      ]
     },
     "execution_count": 29,
     "metadata": {},
     "output_type": "execute_result"
    }
   ],
   "source": [
    "bollywood"
   ]
  },
  {
   "cell_type": "markdown",
   "id": "ef9e2bcc-a06e-4940-8a5d-5b491e770ef1",
   "metadata": {},
   "source": [
    "## Series maths method"
   ]
  },
  {
   "cell_type": "code",
   "execution_count": 30,
   "id": "84b3b2e4-6ba8-4ad2-95bf-15b88a99a6d1",
   "metadata": {},
   "outputs": [
    {
     "data": {
      "text/plain": [
       "np.int64(215)"
      ]
     },
     "execution_count": 30,
     "metadata": {},
     "output_type": "execute_result"
    }
   ],
   "source": [
    "#count() : returns the total number of items and ignore the missing value \n",
    "kohli.count()   # number of rows excluding Nan"
   ]
  },
  {
   "cell_type": "code",
   "execution_count": 31,
   "id": "0189ce1c-9aba-4a49-88b4-d9f96fa141be",
   "metadata": {},
   "outputs": [
    {
     "data": {
      "text/plain": [
       "np.int64(0)"
      ]
     },
     "execution_count": 31,
     "metadata": {},
     "output_type": "execute_result"
    }
   ],
   "source": [
    "# sum() -> product\n",
    "subs.sum()\n",
    "subs.prod()"
   ]
  },
  {
   "cell_type": "code",
   "execution_count": 32,
   "id": "5ed46b4c-82e6-4c39-a4c5-607f7d7cd642",
   "metadata": {},
   "outputs": [
    {
     "data": {
      "text/plain": [
       "np.float64(135.64383561643837)"
      ]
     },
     "execution_count": 32,
     "metadata": {},
     "output_type": "execute_result"
    }
   ],
   "source": [
    "# mean median mode std var\n",
    "subs.mean()"
   ]
  },
  {
   "cell_type": "code",
   "execution_count": 33,
   "id": "7c0c708f-1e21-4cd6-819a-758e076565e4",
   "metadata": {},
   "outputs": [
    {
     "data": {
      "text/plain": [
       "np.float64(24.0)"
      ]
     },
     "execution_count": 33,
     "metadata": {},
     "output_type": "execute_result"
    }
   ],
   "source": [
    "kohli.median()"
   ]
  },
  {
   "cell_type": "code",
   "execution_count": 34,
   "id": "2b8ad0ba-3175-4892-9e8b-8c7de538ec1c",
   "metadata": {},
   "outputs": [
    {
     "data": {
      "text/plain": [
       "0    Akshay Kumar\n",
       "Name: lead, dtype: object"
      ]
     },
     "execution_count": 34,
     "metadata": {},
     "output_type": "execute_result"
    }
   ],
   "source": [
    "bollywood.mode()"
   ]
  },
  {
   "cell_type": "code",
   "execution_count": 35,
   "id": "ffde3d0f-673a-40c6-b214-7cfbd9c9fa02",
   "metadata": {},
   "outputs": [
    {
     "data": {
      "text/plain": [
       "np.float64(62.6750230372527)"
      ]
     },
     "execution_count": 35,
     "metadata": {},
     "output_type": "execute_result"
    }
   ],
   "source": [
    "subs.std()"
   ]
  },
  {
   "cell_type": "code",
   "execution_count": 36,
   "id": "1165cc2d-6579-4fa4-81d8-212e81aa9f0a",
   "metadata": {},
   "outputs": [
    {
     "data": {
      "text/plain": [
       "np.float64(688.0024777222343)"
      ]
     },
     "execution_count": 36,
     "metadata": {},
     "output_type": "execute_result"
    }
   ],
   "source": [
    "kohli.var()"
   ]
  },
  {
   "cell_type": "code",
   "execution_count": 37,
   "id": "d5bf7db4-e80e-4c83-9f6f-043f22dc692c",
   "metadata": {},
   "outputs": [
    {
     "data": {
      "text/plain": [
       "(np.int64(33), np.int64(396))"
      ]
     },
     "execution_count": 37,
     "metadata": {},
     "output_type": "execute_result"
    }
   ],
   "source": [
    "#min max\n",
    "subs.min() , subs.max()"
   ]
  },
  {
   "cell_type": "code",
   "execution_count": 38,
   "id": "c35ac9ce-4f0d-4dfc-9de8-25090519979a",
   "metadata": {},
   "outputs": [
    {
     "data": {
      "text/plain": [
       "(count    215.000000\n",
       " mean      30.855814\n",
       " std       26.229801\n",
       " min        0.000000\n",
       " 25%        9.000000\n",
       " 50%       24.000000\n",
       " 75%       48.000000\n",
       " max      113.000000\n",
       " Name: runs, dtype: float64,\n",
       " count    365.000000\n",
       " mean     135.643836\n",
       " std       62.675023\n",
       " min       33.000000\n",
       " 25%       88.000000\n",
       " 50%      123.000000\n",
       " 75%      177.000000\n",
       " max      396.000000\n",
       " Name: Subscribers gained, dtype: float64)"
      ]
     },
     "execution_count": 38,
     "metadata": {},
     "output_type": "execute_result"
    }
   ],
   "source": [
    "#describe return the summary\n",
    "kohli.describe(), subs.describe()"
   ]
  },
  {
   "cell_type": "markdown",
   "id": "e01b3aac-5b3a-420b-97b2-7804a9e7a52d",
   "metadata": {},
   "source": [
    "### Series Indexing"
   ]
  },
  {
   "cell_type": "code",
   "execution_count": 40,
   "id": "1eea245d-3374-4e80-a0d3-795c336b2d58",
   "metadata": {},
   "outputs": [
    {
     "data": {
      "text/plain": [
       "np.int64(48)"
      ]
     },
     "execution_count": 40,
     "metadata": {},
     "output_type": "execute_result"
    }
   ],
   "source": [
    "# positive indexing\n",
    "subs[0]\n"
   ]
  },
  {
   "cell_type": "code",
   "execution_count": 49,
   "id": "aa9ef975-8cad-4bb4-a46d-ef9d5c2cf905",
   "metadata": {},
   "outputs": [
    {
     "data": {
      "text/plain": [
       "('Rajniesh Duggall', 'Veena Malik')"
      ]
     },
     "execution_count": 49,
     "metadata": {},
     "output_type": "execute_result"
    }
   ],
   "source": [
    "bollywood.iloc[0] , bollywood.loc[\"Zindagi 50-50\"]"
   ]
  },
  {
   "cell_type": "code",
   "execution_count": null,
   "id": "d9d62afc-54b4-414d-8f10-0c4c7fda0099",
   "metadata": {},
   "outputs": [],
   "source": []
  },
  {
   "cell_type": "code",
   "execution_count": null,
   "id": "dfc26c21-0439-4c7a-b58f-ed42f43b6ce6",
   "metadata": {},
   "outputs": [],
   "source": []
  },
  {
   "cell_type": "code",
   "execution_count": null,
   "id": "9dc992f5-b37b-4520-bbb0-f74c3619b362",
   "metadata": {},
   "outputs": [],
   "source": []
  },
  {
   "cell_type": "code",
   "execution_count": null,
   "id": "d453cdfc-33a2-4ec5-bf9c-daf8f0719dfd",
   "metadata": {},
   "outputs": [],
   "source": []
  },
  {
   "cell_type": "code",
   "execution_count": null,
   "id": "2e086aad-2d9e-4ae6-9b4b-3fce2acbd7de",
   "metadata": {},
   "outputs": [],
   "source": []
  },
  {
   "cell_type": "code",
   "execution_count": null,
   "id": "a717b268-a7e3-4121-ad2b-e2d0f601ed32",
   "metadata": {},
   "outputs": [],
   "source": []
  },
  {
   "cell_type": "code",
   "execution_count": null,
   "id": "6dda5315-8837-4582-b21a-e752a046359c",
   "metadata": {},
   "outputs": [],
   "source": []
  }
 ],
 "metadata": {
  "kernelspec": {
   "display_name": "Python 3 (ipykernel)",
   "language": "python",
   "name": "python3"
  },
  "language_info": {
   "codemirror_mode": {
    "name": "ipython",
    "version": 3
   },
   "file_extension": ".py",
   "mimetype": "text/x-python",
   "name": "python",
   "nbconvert_exporter": "python",
   "pygments_lexer": "ipython3",
   "version": "3.12.3"
  }
 },
 "nbformat": 4,
 "nbformat_minor": 5
}
