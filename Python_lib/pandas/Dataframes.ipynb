{
 "cells": [
  {
   "cell_type": "markdown",
   "id": "ff8986cf-d236-4dc9-b49e-bf8b3f206cbf",
   "metadata": {},
   "source": [
    "# DataFrames "
   ]
  },
  {
   "cell_type": "raw",
   "id": "af996509-c753-43a1-86c6-f4a711f7232f",
   "metadata": {},
   "source": [
    "DataFrames in python are the multidimensional tables"
   ]
  },
  {
   "cell_type": "code",
   "execution_count": 1,
   "id": "01311315-8254-43b8-b03c-3f35004706cf",
   "metadata": {},
   "outputs": [],
   "source": [
    "import pandas as pd"
   ]
  },
  {
   "cell_type": "code",
   "execution_count": 2,
   "id": "492620d8-90f0-4dd2-a035-6e40ad5c9939",
   "metadata": {},
   "outputs": [],
   "source": [
    "df=pd.DataFrame([[1,2,3],[4,5,6]] )\n"
   ]
  },
  {
   "cell_type": "code",
   "execution_count": 3,
   "id": "df1c909c-8545-4ce7-b0ec-64d37979d942",
   "metadata": {},
   "outputs": [
    {
     "name": "stdout",
     "output_type": "stream",
     "text": [
      "   0  1  2\n",
      "0  1  2  3\n",
      "1  4  5  6\n"
     ]
    }
   ],
   "source": [
    "print(df)"
   ]
  },
  {
   "cell_type": "code",
   "execution_count": 4,
   "id": "5679134b-c625-4bc4-8245-218c84654a12",
   "metadata": {},
   "outputs": [],
   "source": [
    "# just like series we can also give our own labels to dataframe\n",
    "\n",
    "df1=pd.DataFrame([[1,2,3],[4,5,6],[7,8,9]], columns=['c1','c2','c3'],  index=['r1','r2','r3'])"
   ]
  },
  {
   "cell_type": "code",
   "execution_count": 5,
   "id": "6b71d293-2832-45f1-9eaf-dc78b44ddc4a",
   "metadata": {},
   "outputs": [
    {
     "name": "stdout",
     "output_type": "stream",
     "text": [
      "    c1  c2  c3\n",
      "r1   1   2   3\n",
      "r2   4   5   6\n",
      "r3   7   8   9\n"
     ]
    }
   ],
   "source": [
    "print(df1)"
   ]
  },
  {
   "cell_type": "markdown",
   "id": "17edf032-3d21-4a7b-941a-ce2c4bd8c48a",
   "metadata": {},
   "source": [
    "### creating datafarames using dictionary"
   ]
  },
  {
   "cell_type": "code",
   "execution_count": 16,
   "id": "f4ab312e-bb5d-480d-a8ed-df9c70083ca1",
   "metadata": {},
   "outputs": [],
   "source": [
    "dix= {\"Name\":[\"Peter\",\"Meg\", \"Thorfinn\"],\n",
    "    \"Age\":[23,44,32]}\n"
   ]
  },
  {
   "cell_type": "code",
   "execution_count": 17,
   "id": "43bcfb57-6aba-4112-bb83-84ad28d198ab",
   "metadata": {},
   "outputs": [
    {
     "name": "stdout",
     "output_type": "stream",
     "text": [
      "       Name  Age\n",
      "0     Peter   23\n",
      "1       Meg   44\n",
      "2  Thorfinn   32\n"
     ]
    }
   ],
   "source": [
    "df2= pd.DataFrame(dix)\n",
    "print(df2)"
   ]
  },
  {
   "cell_type": "markdown",
   "id": "6ec6aba7-ca23-4170-89ab-c9268e3e68b5",
   "metadata": {},
   "source": [
    "#### Using csv , xlxs,and json"
   ]
  },
  {
   "cell_type": "code",
   "execution_count": 22,
   "id": "0e8e8f03-b99f-480f-bccc-5a449fcdd0d4",
   "metadata": {},
   "outputs": [
    {
     "ename": "SyntaxError",
     "evalue": "unterminated string literal (detected at line 1) (3935856405.py, line 1)",
     "output_type": "error",
     "traceback": [
      "  \u001b[36mCell\u001b[39m\u001b[36m \u001b[39m\u001b[32mIn[22]\u001b[39m\u001b[32m, line 1\u001b[39m\n\u001b[31m    \u001b[39m\u001b[31mdf3= pd.read_csv(\"./Datasets/sales_data_sample.csv\" , encoding=\"latin1 )\u001b[39m\n                                                                   ^\n\u001b[31mSyntaxError\u001b[39m\u001b[31m:\u001b[39m unterminated string literal (detected at line 1)\n"
     ]
    }
   ],
   "source": [
    "df3= pd.read_csv(\"./Datasets/sales_data_sample.csv\" , encoding=\"latin1 )"
   ]
  },
  {
   "cell_type": "code",
   "execution_count": null,
   "id": "bf295d0e-2738-4ac8-8efd-04c503900e20",
   "metadata": {},
   "outputs": [],
   "source": []
  },
  {
   "cell_type": "markdown",
   "id": "737098b9-d735-4ead-ada3-e17bd3e0d9d0",
   "metadata": {},
   "source": [
    "### Accessing the rows "
   ]
  },
  {
   "cell_type": "markdown",
   "id": "4af1346f-cd13-4b78-92d5-93ed85c8f3eb",
   "metadata": {},
   "source": [
    "##### loc\n",
    "loc is a attribute to return one and more specified value"
   ]
  },
  {
   "cell_type": "code",
   "execution_count": 6,
   "id": "95f7cf34-9062-4b0e-bcf5-c7d3fe4e73f3",
   "metadata": {},
   "outputs": [
    {
     "name": "stdout",
     "output_type": "stream",
     "text": [
      "c1    1\n",
      "c2    2\n",
      "c3    3\n",
      "Name: r1, dtype: int64\n"
     ]
    }
   ],
   "source": [
    "print(df1.loc[\"r1\"])   #  accessing first row "
   ]
  },
  {
   "cell_type": "code",
   "execution_count": 10,
   "id": "cf5f59a8-fb49-40ab-a8ac-a4bf46b456e4",
   "metadata": {},
   "outputs": [
    {
     "name": "stdout",
     "output_type": "stream",
     "text": [
      "    c1  c2  c3\n",
      "r1   1   2   3\n",
      "r3   7   8   9\n"
     ]
    }
   ],
   "source": [
    "# accessing multiple row \n",
    "print(df1.loc[[\"r1\",\"r3\"]])"
   ]
  }
 ],
 "metadata": {
  "kernelspec": {
   "display_name": "Python 3 (ipykernel)",
   "language": "python",
   "name": "python3"
  },
  "language_info": {
   "codemirror_mode": {
    "name": "ipython",
    "version": 3
   },
   "file_extension": ".py",
   "mimetype": "text/x-python",
   "name": "python",
   "nbconvert_exporter": "python",
   "pygments_lexer": "ipython3",
   "version": "3.12.3"
  }
 },
 "nbformat": 4,
 "nbformat_minor": 5
}
